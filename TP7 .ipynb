{
 "cells": [
  {
   "cell_type": "code",
   "execution_count": 3,
   "metadata": {},
   "outputs": [],
   "source": [
    "import numpy as np \n",
    "import matplotlib.pyplot as plt\n",
    "%matplotlib inline \n"
   ]
  },
  {
   "cell_type": "code",
   "execution_count": 4,
   "metadata": {},
   "outputs": [
    {
     "name": "stdout",
     "output_type": "stream",
     "text": [
      "[[0 1 0]\n",
      " [0 0 2]\n",
      " [3 0 0]]\n",
      "[[ 1 -1  1]\n",
      " [ 1  1 -1]\n",
      " [-1  1  1]]\n"
     ]
    }
   ],
   "source": [
    "M = np.array([[0,1,0],[0,0,2],[3,0,0]])\n",
    "N = np.array([[1,-1,1],[1,1,-1],[-1,1,1]])\n",
    "print(M)\n",
    "print(N)"
   ]
  },
  {
   "cell_type": "code",
   "execution_count": 5,
   "metadata": {},
   "outputs": [
    {
     "name": "stdout",
     "output_type": "stream",
     "text": [
      "[[ 0 -1  0]\n",
      " [ 0  0 -2]\n",
      " [-3  0  0]]\n"
     ]
    }
   ],
   "source": [
    "print(N*M)"
   ]
  },
  {
   "cell_type": "code",
   "execution_count": 6,
   "metadata": {},
   "outputs": [
    {
     "name": "stdout",
     "output_type": "stream",
     "text": [
      "[[ 0 -1  0]\n",
      " [ 0  0 -2]\n",
      " [-3  0  0]]\n",
      "\n",
      "[[ 1  1 -1]\n",
      " [-2  2  2]\n",
      " [ 3 -3  3]]\n"
     ]
    }
   ],
   "source": [
    "print(M*N)\n",
    "print()\n",
    "print(M.dot(N))"
   ]
  },
  {
   "cell_type": "code",
   "execution_count": 7,
   "metadata": {},
   "outputs": [
    {
     "name": "stdout",
     "output_type": "stream",
     "text": [
      "[[ 1  1 -1]\n",
      " [-2  2  2]\n",
      " [ 3 -3  3]]\n"
     ]
    }
   ],
   "source": [
    "print(M@N)"
   ]
  },
  {
   "cell_type": "markdown",
   "metadata": {},
   "source": [
    "Quand on definit les matrices par des tableau, le produit matriciel ne se fait pas avec l'operation * mais @, * multiplie composante par composante, tandis que @ réalise l'opération usuelle. "
   ]
  },
  {
   "cell_type": "code",
   "execution_count": 8,
   "metadata": {},
   "outputs": [
    {
     "name": "stdout",
     "output_type": "stream",
     "text": [
      "[[0 1 0]\n",
      " [0 0 2]\n",
      " [3 0 0]]\n",
      "\n",
      "[[ 1 -1  1]\n",
      " [ 1  1 -1]\n",
      " [-1  1  1]]\n"
     ]
    }
   ],
   "source": [
    "M = np.matrix(\"0 1 0; 0 0 2; 3 0 0\")\n",
    "N = np.matrix(\"1 -1 1; 1 1 -1; -1 1 1\")\n",
    "print(M)\n",
    "print()\n",
    "print(N)"
   ]
  },
  {
   "cell_type": "code",
   "execution_count": 9,
   "metadata": {},
   "outputs": [
    {
     "name": "stdout",
     "output_type": "stream",
     "text": [
      "[[ 1  1 -1]\n",
      " [-2  2  2]\n",
      " [ 3 -3  3]]\n"
     ]
    }
   ],
   "source": [
    "print(M*N)"
   ]
  },
  {
   "cell_type": "code",
   "execution_count": 10,
   "metadata": {},
   "outputs": [
    {
     "name": "stdout",
     "output_type": "stream",
     "text": [
      "[[ 1  2  3  1]\n",
      " [ 1  5  7  2]\n",
      " [ 1 11 13  3]]\n"
     ]
    }
   ],
   "source": [
    "M = np.matrix(\"1 2 3 1; 1 5 7 2; 1 11 13 3\")\n",
    "print(M)"
   ]
  },
  {
   "cell_type": "code",
   "execution_count": 11,
   "metadata": {},
   "outputs": [],
   "source": [
    "U = np.copy(M)\n",
    "a,b = U[1,0]/U[0,0], U[2,0]/U[0,0]\n",
    "U[1,:] = U[1,:]-a*U[0,:]\n",
    "U[2,:] = U[2,:]-b*U[0,:]"
   ]
  },
  {
   "cell_type": "code",
   "execution_count": 12,
   "metadata": {},
   "outputs": [
    {
     "name": "stdout",
     "output_type": "stream",
     "text": [
      "[[ 1  2  3  1]\n",
      " [ 0  3  4  1]\n",
      " [ 0  9 10  2]]\n"
     ]
    }
   ],
   "source": [
    "print(U)\n"
   ]
  },
  {
   "cell_type": "code",
   "execution_count": 13,
   "metadata": {},
   "outputs": [
    {
     "name": "stdout",
     "output_type": "stream",
     "text": [
      "[[ 1  2  3  1]\n",
      " [ 0  3  4  1]\n",
      " [ 0  0 -2 -1]]\n"
     ]
    }
   ],
   "source": [
    "c = U[2,1]/U[1,1]\n",
    "U[2,:] =  U[2,:] - c*U[1,:]\n",
    "print(U)"
   ]
  },
  {
   "cell_type": "code",
   "execution_count": 14,
   "metadata": {},
   "outputs": [
    {
     "name": "stdout",
     "output_type": "stream",
     "text": [
      "[[ 1  2  3  1]\n",
      " [ 1  5  7  2]\n",
      " [ 1 11 13  3]]\n"
     ]
    }
   ],
   "source": [
    "print(M)"
   ]
  },
  {
   "cell_type": "markdown",
   "metadata": {},
   "source": [
    "Pivot de gauss ! "
   ]
  },
  {
   "cell_type": "markdown",
   "metadata": {},
   "source": [
    "On garde une trace de M ! \n"
   ]
  },
  {
   "cell_type": "markdown",
   "metadata": {},
   "source": [
    "a, b represent le rapport entre L1 et L2 puis L1 et L3. c le raport entre L2-aL1 et L3-bL1 \n",
    "U nous permet de representer le systeme et de pouvoir le manipuler sans changer la valeur de la matrice M"
   ]
  },
  {
   "cell_type": "code",
   "execution_count": 15,
   "metadata": {},
   "outputs": [
    {
     "name": "stdout",
     "output_type": "stream",
     "text": [
      "[[1 2 3]\n",
      " [4 5 6]\n",
      " [7 8 9]] \n",
      "\n",
      " [[10]\n",
      " [11]\n",
      " [12]] \n",
      "\n",
      "[[ 1  2  3 10]\n",
      " [ 4  5  6 11]\n",
      " [ 7  8  9 12]]\n"
     ]
    }
   ],
   "source": [
    "A = np.matrix(\"1 2 3; 4 5 6; 7 8 9\")\n",
    "B = np.matrix(\"10; 11; 12\")\n",
    "print(A,\"\\n\\n\",B,\"\\n\")\n",
    "print(np.matrix(np.hstack([A,B])))"
   ]
  },
  {
   "cell_type": "code",
   "execution_count": 49,
   "metadata": {},
   "outputs": [
    {
     "name": "stdout",
     "output_type": "stream",
     "text": [
      "[[5 4 3 2 1]\n",
      " [4 5 4 3 2]\n",
      " [3 4 5 4 3]\n",
      " [2 3 4 5 4]\n",
      " [1 2 3 4 5]]\n"
     ]
    }
   ],
   "source": [
    "def func1(n,m): \n",
    "    \"\"\"\n",
    "    renvoie une matrice en fonction d'une expression\n",
    "    \"\"\"\n",
    "    l = [[0]*n]*m\n",
    "    \n",
    "    for i in range(1,n+1): \n",
    "        for j in range(1,m+1): \n",
    "            l[i-1][j-1] = 5 - abs(i-j)\n",
    "    s = ''\n",
    "    for i in range(n): \n",
    "        for j in range(m):\n",
    "            s+=' '\n",
    "            s+=str(5 - abs(i-j))\n",
    "        s+= ';'\n",
    "    \n",
    "    return np.matrix(s[1:-1])\n",
    "A = func1(5,5)\n",
    "B = np.matrix(\"1; 1; 1; 1; 1\")\n",
    "print(A)       "
   ]
  },
  {
   "cell_type": "code",
   "execution_count": 50,
   "metadata": {},
   "outputs": [
    {
     "name": "stdout",
     "output_type": "stream",
     "text": [
      "[[5 4 3 2 1 1]\n",
      " [0 1 1 1 1 0]\n",
      " [0 0 2 1 1 0]\n",
      " [0 0 0 2 1 0]\n",
      " [0 0 0 0 1 0]]\n"
     ]
    }
   ],
   "source": [
    "U = np.matrix(np.hstack([A,B]))\n",
    "a,b,c,d = U[1,0]/U[0,0], U[2,0]/U[0,0], U[3,0]/U[0,0], U[4,0]/U[0,0]\n",
    "U[1,:] = U[1,:]-a*U[0,:]\n",
    "U[2,:] = U[2,:]-b*U[0,:]\n",
    "U[3,:] = U[3,:]-c*U[0,:]\n",
    "U[4,:] = U[4,:]-d*U[0,:]\n",
    "\n",
    "e,f,g = U[2,1]/U[1,1],U[3,1]/U[1,1],U[4,1]/U[1,1]\n",
    "U[2,:] =  U[2,:] - e*U[1,:]\n",
    "U[3,:] =  U[3,:] - f*U[1,:]\n",
    "U[4,:] =  U[4,:] - g*U[1,:]\n",
    "\n",
    "h,i = U[3,2]/U[2,2],U[4,2]/U[2,2]\n",
    "U[3,:] =  U[3,:] - h*U[2,:]\n",
    "U[4,:] =  U[4,:] - i*U[2,:]\n",
    "\n",
    "j = U[4,3]/U[3,3]\n",
    "\n",
    "U[4,:] =  U[4,:] - j*U[3,:]\n",
    "print(U)"
   ]
  },
  {
   "cell_type": "code",
   "execution_count": 63,
   "metadata": {},
   "outputs": [
    {
     "name": "stdout",
     "output_type": "stream",
     "text": [
      "[[5 4 3 2 1 1]\n",
      " [4 5 4 3 2 1]\n",
      " [3 4 5 4 3 1]\n",
      " [2 3 4 5 4 1]\n",
      " [1 2 3 4 5 1]]\n",
      "5 6\n",
      "[[5 4 3 2 1 1]\n",
      " [0 1 1 1 1 0]\n",
      " [0 0 2 1 1 0]\n",
      " [0 0 0 2 1 0]\n",
      " [0 0 0 0 1 0]]\n"
     ]
    }
   ],
   "source": [
    "\n",
    "def echelon1(M):\n",
    "    a,b= np.shape(M)\n",
    "    print(a,b)\n",
    "    p = 0 \n",
    "    for k in range(p,a):\n",
    "        for i in range(k+1,a):\n",
    "            M[i,:] = M[i,:] - (M[i,k]/M[k,k])*M[k,:]\n",
    "    return M\n",
    "\n",
    "print(np.matrix(np.hstack([A,B])))\n",
    "print(echelon1(np.matrix(np.hstack([A,B]))))\n"
   ]
  },
  {
   "cell_type": "code",
   "execution_count": 84,
   "metadata": {},
   "outputs": [],
   "source": [
    "def phi(t,A): \n",
    "    I3 = np.matrix(\"1 0 0; 0 1 0; 0 0 1\")\n",
    "    return np.linalg.det(A-t*I3)"
   ]
  },
  {
   "cell_type": "code",
   "execution_count": 85,
   "metadata": {},
   "outputs": [],
   "source": [
    "A = np.matrix(\"0 2 -1; 3 -2 0; -2 2 1\")"
   ]
  },
  {
   "cell_type": "code",
   "execution_count": 100,
   "metadata": {
    "scrolled": true
   },
   "outputs": [
    {
     "name": "stdout",
     "output_type": "stream",
     "text": [
      "-3.330669073875464e-16\n"
     ]
    },
    {
     "data": {
      "text/plain": [
       "[<matplotlib.lines.Line2D at 0x20ffab054b0>]"
      ]
     },
     "execution_count": 100,
     "metadata": {},
     "output_type": "execute_result"
    },
    {
     "data": {
      "image/png": "[encoded data removed]",
      "text/plain": [
       "<Figure size 640x480 with 1 Axes>"
      ]
     },
     "metadata": {},
     "output_type": "display_data"
    }
   ],
   "source": [
    "def phi2(t):\n",
    "    L = [phi(i,A) for i in t ]\n",
    "    return L\n",
    "\n",
    "print(phi(1,A))\n",
    "x = np.linspace(-5,3,300)\n",
    "y = phi2(x)\n",
    "y = np.array(y)\n",
    "plt.plot(x,y)\n",
    "plt.plot(x,np.array([0]*300))\n",
    "plt.plot(np.array([-4]*2),np.linspace(-25,45,2))\n",
    "plt.plot(np.array([1]*2),np.linspace(-25,45,2))\n",
    "plt.plot(np.array([2]*2),np.linspace(-25,45,2))"
   ]
  },
  {
   "cell_type": "code",
   "execution_count": null,
   "metadata": {},
   "outputs": [],
   "source": []
  },
  {
   "cell_type": "code",
   "execution_count": null,
   "metadata": {},
   "outputs": [],
   "source": []
  }
 ],
 "metadata": {
  "kernelspec": {
   "display_name": "Python 3 (ipykernel)",
   "language": "python",
   "name": "python3"
  },
  "language_info": {
   "codemirror_mode": {
    "name": "ipython",
    "version": 3
   },
   "file_extension": ".py",
   "mimetype": "text/x-python",
   "name": "python",
   "nbconvert_exporter": "python",
   "pygments_lexer": "ipython3",
   "version": "3.10.9"
  }
 },
 "nbformat": 4,
 "nbformat_minor": 4
}
