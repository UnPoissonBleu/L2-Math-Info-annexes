{
 "cells": [
  {
   "cell_type": "code",
   "execution_count": 27,
   "id": "8c4d6b0e",
   "metadata": {},
   "outputs": [],
   "source": [
    "\n",
    "class H: \n",
    "    def __init__(self,a,b,c,d):\n",
    "        \"\"\"\n",
    "        x = a + ib + jc + kd\n",
    "        a,b,c,d float or int\n",
    "        self.re = real part of x\n",
    "        self.i = the number of i \n",
    "        self.j = the number of j \n",
    "        self.k = the number of k \n",
    "        self.n = the norme\n",
    "        self.im = ib + jc + kd \n",
    "        \"\"\"\n",
    "        self.re = a \n",
    "        self.i = b \n",
    "        self.j = c\n",
    "        self.k = d \n",
    "        self.a = a\n",
    "        self.b = b \n",
    "        self.c = c \n",
    "        self.d = d \n",
    "        self.norme= (a**2 + b**2 + c**2 + d**2)**0.5\n",
    "        self.n = self.norme\n",
    "        if self.re == 0: \n",
    "            self.im = self \n",
    "        else : \n",
    "            self.im = H(0,self.i,self.j,self.k)\n",
    "    def __str__(self): \n",
    "        bb = \"\"+\"-\"*(self.b < 0)+\"+\"*(self.b>=0)\n",
    "        cc = \"\"+\"-\"*(self.c < 0)+\"+\"*(self.c>=0)\n",
    "        dd = \"\"+\"-\"*(self.d < 0)+\"+\"*(self.d>=0) \n",
    "        string =  f\"{self.a} {bb}{abs(self.b)}i {cc}{abs(self.c)}j {dd}{abs(self.d)}k\"\n",
    "        #return string\n",
    "        string1 = string.split(\" \")\n",
    "        string1 = {\"a\" :string1[0],\"b\" : string1[1], \"c\" : string1[2],\"d\" :string1[3]}\n",
    "        if self.a == 0 : \n",
    "            string1[\"a\"] = \"\"\n",
    "        if self.b == 0 : \n",
    "            string1[\"b\"] =\"\"\n",
    "        if self.c == 0:\n",
    "            string1[\"c\"] =\"\"\n",
    "        if self.d ==0:\n",
    "            string1[\"d\"] =\"\"\n",
    "        if self.a == 0 and self.b == 0 and self.c == 0 and self.d == 0 : \n",
    "            return \"0\"\n",
    "        return string1[\"a\"] + string1[\"b\"] +  string1[\"c\"] + string1[\"d\"]\n",
    "            \n",
    "              \n",
    "    def __radd__(self): \n",
    "        return None\n",
    "\n",
    "i = H(0,0,0,0)"
   ]
  },
  {
   "cell_type": "code",
   "execution_count": 28,
   "id": "7fccc7ec",
   "metadata": {},
   "outputs": [
    {
     "name": "stdout",
     "output_type": "stream",
     "text": [
      "0\n"
     ]
    }
   ],
   "source": [
    "print(i.im)"
   ]
  },
  {
   "cell_type": "code",
   "execution_count": null,
   "id": "bae3363e",
   "metadata": {},
   "outputs": [],
   "source": []
  }
 ],
 "metadata": {
  "kernelspec": {
   "display_name": "Python 3 (ipykernel)",
   "language": "python",
   "name": "python3"
  },
  "language_info": {
   "codemirror_mode": {
    "name": "ipython",
    "version": 3
   },
   "file_extension": ".py",
   "mimetype": "text/x-python",
   "name": "python",
   "nbconvert_exporter": "python",
   "pygments_lexer": "ipython3",
   "version": "3.10.9"
  }
 },
 "nbformat": 4,
 "nbformat_minor": 5
}
